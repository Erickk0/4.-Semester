{
 "cells": [
  {
   "cell_type": "code",
   "execution_count": 1,
   "id": "c134e37d-feda-49df-93db-10f4a7d59866",
   "metadata": {
    "tags": []
   },
   "outputs": [
    {
     "data": {
      "image/png": "[encoded data removed]",
      "text/plain": [
       "<Figure size 413.165x200.667 with 1 Axes>"
      ]
     },
     "execution_count": 1,
     "metadata": {},
     "output_type": "execute_result"
    }
   ],
   "source": [
    "#Serie 1 Aufgabe 1\n",
    "from qiskit import QuantumCircuit \n",
    "\n",
    "qc = QuantumCircuit(1)\n",
    "# qc.x(0) # qubit initialization by default as |0>\n",
    "qc.h(0)\n",
    "qc.measure_all()\n",
    "qc.draw()"
   ]
  },
  {
   "cell_type": "code",
   "execution_count": 1,
   "id": "87329c89-ef45-40f7-aec5-0a844e9ca7e2",
   "metadata": {
    "tags": []
   },
   "outputs": [
    {
     "name": "stderr",
     "output_type": "stream",
     "text": [
      "qiskit_runtime_service.__init__:INFO:2024-05-14 05:09:35,332: Default instance: ibm-q/open/main\n"
     ]
    },
    {
     "name": "stdout",
     "output_type": "stream",
     "text": [
      "{'0': 462, '1': 538}\n"
     ]
    }
   ],
   "source": [
    "#Serie 1 Aufgabe 1\n",
    "from qiskit import QuantumCircuit, transpile\n",
    "from qiskit_ibm_runtime import QiskitRuntimeService\n",
    "\n",
    "qc = QuantumCircuit(1)\n",
    "# qc.x(0) # qubit initialization by default as |0>\n",
    "qc.h(0)\n",
    "qc.measure_all()\n",
    "qc.draw()\n",
    "\n",
    "backend = QiskitRuntimeService().get_backend(\"ibmq_qasm_simulator\")\n",
    "tqc = transpile(qc, backend) #transpile returns a new quantum circuit that is compatible with the backend\n",
    "job = backend.run(tqc, shots=1000)\n",
    "result = job.result()\n",
    "counts = result.get_counts(tqc)\n",
    "\n",
    "print(counts)"
   ]
  },
  {
   "cell_type": "code",
   "execution_count": 2,
   "id": "f8a5a2a7-620f-41a2-8a82-6b9e7a3b93f8",
   "metadata": {
    "tags": []
   },
   "outputs": [
    {
     "data": {
      "image/png": "[encoded data removed]",
      "text/plain": [
       "<Figure size 519.897x117.056 with 1 Axes>"
      ]
     },
     "execution_count": 2,
     "metadata": {},
     "output_type": "execute_result"
    }
   ],
   "source": [
    "#Serie 1 Aufgabe 1\n",
    "from qiskit import QuantumCircuit\n",
    "\n",
    "qc = QuantumCircuit(1)\n",
    "qc.x(0)\n",
    "qc.h(0)\n",
    "qc.t(0)\n",
    "qc.y(0)\n",
    "qc.h(0)\n",
    "\n",
    "qc.draw()"
   ]
  },
  {
   "cell_type": "code",
   "execution_count": 5,
   "id": "e3a15464-666c-4208-9431-a8bed80519e2",
   "metadata": {},
   "outputs": [
    {
     "data": {
      "image/png": "[encoded data removed]",
      "text/plain": [
       "<Figure size 1082.05x284.278 with 1 Axes>"
      ]
     },
     "execution_count": 5,
     "metadata": {},
     "output_type": "execute_result"
    }
   ],
   "source": [
    "#Serie 2 Aufgabe 1\n",
    "#Beobachtung: Durch |0> kontrollierte Negation\n",
    "from qiskit import QuantumCircuit\n",
    "\n",
    "qc = QuantumCircuit(2)\n",
    "qc.x(0)\n",
    "qc.barrier()\n",
    "qc.h([0,1])\n",
    "qc.x(1)\n",
    "qc.cx(1,0)\n",
    "qc.x(1)\n",
    "qc.barrier()\n",
    "qc.h([0,1])\n",
    "qc.measure_all()\n",
    "qc.draw()"
   ]
  },
  {
   "cell_type": "code",
   "execution_count": 4,
   "id": "29d757f3-e359-4457-9b04-b7a983b5a5ce",
   "metadata": {
    "tags": []
   },
   "outputs": [
    {
     "name": "stderr",
     "output_type": "stream",
     "text": [
      "qiskit_runtime_service.__init__:INFO:2024-05-14 05:02:54,968: Default instance: ibm-q/open/main\n"
     ]
    },
    {
     "name": "stdout",
     "output_type": "stream",
     "text": [
      "{'11': 10}\n"
     ]
    }
   ],
   "source": [
    "#Serie 2 Aufgabe 1\n",
    "from qiskit import QuantumCircuit, transpile\n",
    "from qiskit_ibm_runtime import QiskitRuntimeService\n",
    "\n",
    "qc = QuantumCircuit(2)\n",
    "qc.x(0)\n",
    "qc.h([0,1])\n",
    "qc.x(1)\n",
    "qc.cx(1,0)\n",
    "qc.x(1)\n",
    "qc.h([0,1])\n",
    "qc.measure_all()\n",
    "qc.draw()\n",
    "\n",
    "backend = QiskitRuntimeService().get_backend(\"ibmq_qasm_simulator\")\n",
    "tqc = transpile(qc, backend) #transpile returns a new quantum circuit that is compatible with the backend\n",
    "job = backend.run(tqc, shots=10)\n",
    "result = job.result()\n",
    "counts = result.get_counts(tqc)\n",
    "\n",
    "print(counts)"
   ]
  },
  {
   "cell_type": "code",
   "execution_count": null,
   "id": "b9c17a92-2791-4821-9c3b-0d7361a76583",
   "metadata": {},
   "outputs": [],
   "source": []
  }
 ],
 "metadata": {
  "kernelspec": {
   "display_name": "Qiskit v1.0.2 (ipykernel)",
   "language": "python",
   "name": "python3"
  },
  "language_info": {
   "codemirror_mode": {
    "name": "ipython",
    "version": 3
   },
   "file_extension": ".py",
   "mimetype": "text/x-python",
   "name": "python",
   "nbconvert_exporter": "python",
   "pygments_lexer": "ipython3",
   "version": "3.10.8"
  },
  "widgets": {
   "application/vnd.jupyter.widget-state+json": {
    "state": {},
    "version_major": 2,
    "version_minor": 0
   }
  }
 },
 "nbformat": 4,
 "nbformat_minor": 5
}
